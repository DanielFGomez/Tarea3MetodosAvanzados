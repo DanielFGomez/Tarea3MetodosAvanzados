{
 "cells": [
  {
   "cell_type": "code",
   "execution_count": 314,
   "metadata": {
    "collapsed": false
   },
   "outputs": [
    {
     "name": "stdout",
     "output_type": "stream",
     "text": [
      "Populating the interactive namespace from numpy and matplotlib\n"
     ]
    },
    {
     "name": "stderr",
     "output_type": "stream",
     "text": [
      "WARNING: pylab import has clobbered these variables: ['beta']\n",
      "`%matplotlib` prevents importing * from pylab and numpy\n"
     ]
    }
   ],
   "source": [
    "%pylab inline\n",
    "import matplotlib.pyplot as plt\n",
    "import numpy as np"
   ]
  },
  {
   "cell_type": "code",
   "execution_count": 315,
   "metadata": {
    "collapsed": false
   },
   "outputs": [
    {
     "data": {
      "text/plain": [
       "<matplotlib.collections.PathCollection at 0x12a4bbed0>"
      ]
     },
     "execution_count": 315,
     "metadata": {},
     "output_type": "execute_result"
    },
    {
     "data": {
      "image/png": "[encoded data removed]",
      "text/plain": [
       "<matplotlib.figure.Figure at 0x12a227790>"
      ]
     },
     "metadata": {},
     "output_type": "display_data"
    }
   ],
   "source": [
    "alph=0.1\n",
    "bet=2\n",
    "log_R_c=np.log(1)\n",
    "log_rho0=np.log(30)\n",
    "r=linspace(-10,10,1000)\n",
    "def densities(alph,bet,log_R_c,log_rho0,r):\n",
    "    rho=np.exp(log_rho0)/(((np.exp(r)/np.exp(log_R_c))**alph)*((1+np.exp(r)/np.exp(log_R_c))**bet))\n",
    "    return (rho)\n",
    "         \n",
    "densdata=densities(alph,bet,log_R_c,log_rho0,r)\n",
    "scatter(r,np.log(densdata))\n",
    "\n",
    "    "
   ]
  },
  {
   "cell_type": "code",
   "execution_count": 316,
   "metadata": {
    "collapsed": true
   },
   "outputs": [],
   "source": [
    "def loglikelihood(y_obs, y_model):\n",
    "    chi_squared = (1.0/2.0)*sum((y_obs-y_model)**2)\n",
    "    return (-chi_squared)"
   ]
  },
  {
   "cell_type": "code",
   "execution_count": 353,
   "metadata": {
    "collapsed": false
   },
   "outputs": [
    {
     "name": "stdout",
     "output_type": "stream",
     "text": [
      "Los parámetros iniciales fueron\n",
      "alph0=0.19\n",
      "bet0=2.12\n",
      "R_c0=0.0944006754215\n",
      "rho00=3.43398720449\n",
      "El logaritmo de la función de likelihood es=-777747.752064\n"
     ]
    }
   ],
   "source": [
    "densmodel=[]\n",
    "\n",
    "alph_walk = empty((0))\n",
    "bet_walk = empty((0))\n",
    "log_R_c_walk = empty((0))\n",
    "log_rho0_walk = empty((0))\n",
    "logl_walk = empty((0))\n",
    "\n",
    "alph0=0.19\n",
    "bet0=2.12\n",
    "log_R_c0=np.log(1.099)\n",
    "log_rho00=np.log(31)\n",
    "\n",
    "alph_walk = append(alph_walk, alph0)\n",
    "bet_walk = append(bet_walk, bet0)\n",
    "log_R_c_walk = append(log_R_c_walk, log_R_c0)\n",
    "log_rho0_walk = append(log_rho0_walk, log_rho00)\n",
    "\n",
    "\n",
    "densmodel = densities(alph_walk[0],bet_walk[0],log_R_c_walk[0],log_rho0_walk[0],r)\n",
    "logl_walk = append(logl_walk, loglikelihood(densdata, densmodel))\n",
    "print 'Los parámetros iniciales fueron'\n",
    "print 'alph0='+str(alph_walk[0])\n",
    "print 'bet0='+str(bet_walk[0])\n",
    "print 'R_c0='+str(log_R_c_walk[0])\n",
    "print 'rho00='+str(log_rho0_walk[0])\n",
    "\n",
    "print 'El logaritmo de la función de likelihood es='+str(logl_walk[0])\n"
   ]
  },
  {
   "cell_type": "code",
   "execution_count": 354,
   "metadata": {
    "collapsed": false
   },
   "outputs": [
    {
     "name": "stderr",
     "output_type": "stream",
     "text": [
      "/Users/Felipe/anaconda/lib/python2.7/site-packages/ipykernel/__main__.py:16: RuntimeWarning: overflow encountered in exp\n"
     ]
    }
   ],
   "source": [
    "n_iterations = 10000\n",
    "densprime=[]\n",
    "for i in range(n_iterations):\n",
    "    alph0_prime = np.random.normal(alph_walk[i], 1) \n",
    "    bet0_prime = np.random.normal(bet_walk[i], 1) \n",
    "    log_R_c0_prime = np.random.normal(log_R_c_walk[i], 1) \n",
    "    log_rho00_prime = np.random.normal(log_rho0_walk[i], 1) \n",
    "    \n",
    "    \n",
    "    densmodel = densities(alph_walk[i],bet_walk[i],log_R_c_walk[i],log_rho0_walk[i],r)\n",
    "    densprime = densities(alph0_prime,bet0_prime,log_R_c0_prime,log_rho00_prime,r)\n",
    "    \n",
    "    logl_prime = loglikelihood(densdata, densprime)\n",
    "    logl_init = loglikelihood(densdata, densmodel)\n",
    "    \n",
    "    alpha = exp(logl_prime-logl_init)\n",
    "    if(alpha>=1.0):\n",
    "        alph_walk  = append(alph_walk,alph0_prime)\n",
    "        bet_walk  = append(bet_walk,bet0_prime)\n",
    "        log_R_c_walk  = append(log_R_c_walk,log_R_c0_prime)\n",
    "        log_rho0_walk = append(log_rho0_walk,log_rho00_prime)\n",
    "    \n",
    "        logl_walk = append(logl_walk, logl_prime)\n",
    "    else:\n",
    "        beta = random.random()\n",
    "        if(beta<=alpha):\n",
    "            alph_walk  = append(alph_walk,alph0_prime)\n",
    "            bet_walk  = append(bet_walk,bet0_prime)\n",
    "            log_R_c_walk  = append(log_R_c_walk,log_R_c0_prime)\n",
    "            log_rho0_walk = append(log_rho0_walk,log_rho00_prime)\n",
    "         \n",
    "            logl_walk = append(logl_walk, logl_prime)\n",
    "        else:\n",
    "            alph_walk  = append(alph_walk,alph_walk[i])\n",
    "            bet_walk  = append(bet_walk,bet_walk[i])\n",
    "            log_R_c_walk  = append(log_R_c_walk,log_R_c_walk[i])\n",
    "            log_rho0_walk = append(log_rho0_walk,log_rho0_walk[i])\n",
    "      \n",
    "            logl_walk = append(logl_walk, logl_init)"
   ]
  },
  {
   "cell_type": "code",
   "execution_count": 355,
   "metadata": {
    "collapsed": false
   },
   "outputs": [
    {
     "data": {
      "text/plain": [
       "<matplotlib.text.Text at 0x12f1e6c50>"
      ]
     },
     "execution_count": 355,
     "metadata": {},
     "output_type": "execute_result"
    },
    {
     "data": {
      "image/png": "[encoded data removed]",
      "text/plain": [
       "<matplotlib.figure.Figure at 0x12dae8f10>"
      ]
     },
     "metadata": {},
     "output_type": "display_data"
    }
   ],
   "source": [
    "count, bins, ignored =plt.hist(alph_walk, 20, normed=True)\n",
    "plt.title('Histograma de alpha', fontsize=12)"
   ]
  },
  {
   "cell_type": "code",
   "execution_count": 356,
   "metadata": {
    "collapsed": false
   },
   "outputs": [
    {
     "data": {
      "text/plain": [
       "<matplotlib.text.Text at 0x12f44ef50>"
      ]
     },
     "execution_count": 356,
     "metadata": {},
     "output_type": "execute_result"
    },
    {
     "data": {
      "image/png": "[encoded data removed]",
      "text/plain": [
       "<matplotlib.figure.Figure at 0x12ee4b110>"
      ]
     },
     "metadata": {},
     "output_type": "display_data"
    }
   ],
   "source": [
    "count, bins, ignored =plt.hist(bet_walk, 20, normed=True)\n",
    "plt.title('Histograma de beta', fontsize=12)"
   ]
  },
  {
   "cell_type": "code",
   "execution_count": 357,
   "metadata": {
    "collapsed": false
   },
   "outputs": [
    {
     "data": {
      "text/plain": [
       "<matplotlib.text.Text at 0x12f62d810>"
      ]
     },
     "execution_count": 357,
     "metadata": {},
     "output_type": "execute_result"
    },
    {
     "data": {
      "image/png": "[encoded data removed]",
      "text/plain": [
       "<matplotlib.figure.Figure at 0x12ea01d90>"
      ]
     },
     "metadata": {},
     "output_type": "display_data"
    }
   ],
   "source": [
    "count, bins, ignored =plt.hist(log_R_c_walk, 20, normed=True)\n",
    "plt.title('Histograma de log_R_c', fontsize=12)"
   ]
  },
  {
   "cell_type": "code",
   "execution_count": 358,
   "metadata": {
    "collapsed": false
   },
   "outputs": [
    {
     "data": {
      "text/plain": [
       "<matplotlib.text.Text at 0x12d7d9190>"
      ]
     },
     "execution_count": 358,
     "metadata": {},
     "output_type": "execute_result"
    },
    {
     "data": {
      "image/png": "[encoded data removed]",
      "text/plain": [
       "<matplotlib.figure.Figure at 0x12f268390>"
      ]
     },
     "metadata": {},
     "output_type": "display_data"
    }
   ],
   "source": [
    "count, bins, ignored =plt.hist(log_rho0_walk, 20, normed=True)\n",
    "plt.title('Histograma de log_rho0', fontsize=12)"
   ]
  },
  {
   "cell_type": "code",
   "execution_count": 359,
   "metadata": {
    "collapsed": false
   },
   "outputs": [
    {
     "data": {
      "image/png": "[encoded data removed]",
      "text/plain": [
       "<matplotlib.figure.Figure at 0x12b804e90>"
      ]
     },
     "metadata": {},
     "output_type": "display_data"
    }
   ],
   "source": [
    "Plot2=plt.figure(figsize=(10,10))\n",
    "plot((logl_walk))\n",
    "plt.title('Evolucion de funcion de error de $\\chi^{2}$', fontsize=12)\n",
    "plt.grid()"
   ]
  },
  {
   "cell_type": "code",
   "execution_count": 360,
   "metadata": {
    "collapsed": false
   },
   "outputs": [
    {
     "name": "stdout",
     "output_type": "stream",
     "text": [
      "Los parámetros más probables encontrados fueron\n",
      "alph=0.0895254668694\n",
      "bet=3.72183296673\n",
      "log_R_c=0.535565066536\n",
      "log_rho0=3.48363311382\n",
      "\n",
      "Los parámetros originales fueron\n",
      "alph=0.1\n",
      "bet=2\n",
      "log_R_c=0.0\n",
      "log_rho0=3.40119738166\n"
     ]
    }
   ],
   "source": [
    "max_likelihood_id = argmax(logl_walk)\n",
    "best_alph = alph_walk[max_likelihood_id]\n",
    "best_bet = bet_walk[max_likelihood_id]\n",
    "best_log_R_c = log_R_c_walk[max_likelihood_id]\n",
    "best_log_rho0 = log_rho0_walk[max_likelihood_id]\n",
    "\n",
    "print 'Los parámetros más probables encontrados fueron'\n",
    "print 'alph='+str(best_alph)\n",
    "print 'bet='+str(best_bet)\n",
    "print 'log_R_c='+str(best_log_R_c)\n",
    "print 'log_rho0='+str(best_log_rho0)\n",
    "\n",
    "print '\\nLos parámetros originales fueron'\n",
    "print 'alph='+str(alph)\n",
    "print 'bet='+str(bet)\n",
    "print 'log_R_c='+str(log_R_c)\n",
    "print 'log_rho0='+str(log_rho0)\n",
    "\n"
   ]
  },
  {
   "cell_type": "code",
   "execution_count": 361,
   "metadata": {
    "collapsed": false
   },
   "outputs": [
    {
     "name": "stderr",
     "output_type": "stream",
     "text": [
      "/Users/Felipe/anaconda/lib/python2.7/site-packages/ipykernel/__main__.py:4: RuntimeWarning: invalid value encountered in log\n",
      "/Users/Felipe/anaconda/lib/python2.7/site-packages/ipykernel/__main__.py:5: RuntimeWarning: invalid value encountered in log\n"
     ]
    },
    {
     "data": {
      "text/plain": [
       "<matplotlib.collections.PathCollection at 0x12a106150>"
      ]
     },
     "execution_count": 361,
     "metadata": {},
     "output_type": "execute_result"
    },
    {
     "data": {
      "image/png": "[encoded data removed]",
      "text/plain": [
       "<matplotlib.figure.Figure at 0x12f6bbfd0>"
      ]
     },
     "metadata": {},
     "output_type": "display_data"
    }
   ],
   "source": [
    "denstest=[]\n",
    "denstest=densities(best_alph,best_bet,best_log_R_c,best_log_rho0,r)\n",
    "densdata=densities(alph,bet,log_R_c,log_rho0,r)\n",
    "scatter(np.log(r),np.log(densdata))\n",
    "scatter(np.log(r),np.log(denstest))"
   ]
  },
  {
   "cell_type": "code",
   "execution_count": null,
   "metadata": {
    "collapsed": true
   },
   "outputs": [],
   "source": []
  },
  {
   "cell_type": "code",
   "execution_count": null,
   "metadata": {
    "collapsed": true
   },
   "outputs": [],
   "source": []
  },
  {
   "cell_type": "code",
   "execution_count": null,
   "metadata": {
    "collapsed": true
   },
   "outputs": [],
   "source": []
  }
 ],
 "metadata": {
  "kernelspec": {
   "display_name": "Python 2",
   "language": "python",
   "name": "python2"
  },
  "language_info": {
   "codemirror_mode": {
    "name": "ipython",
    "version": 2
   },
   "file_extension": ".py",
   "mimetype": "text/x-python",
   "name": "python",
   "nbconvert_exporter": "python",
   "pygments_lexer": "ipython2",
   "version": "2.7.10"
  }
 },
 "nbformat": 4,
 "nbformat_minor": 0
}
